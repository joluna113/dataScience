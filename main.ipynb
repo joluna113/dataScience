{
 "cells": [
  {
   "cell_type": "code",
   "execution_count": null,
   "id": "initial_id",
   "metadata": {
    "collapsed": true
   },
   "outputs": [],
   "source": [
    "import pandas as pd\n",
    "# if we inckude the name of the user\n",
    "# We can be able to creata e new username"
   ]
  },
  {
   "metadata": {
    "SqlCellData": {
     "variableName$1": "df_sql"
    }
   },
   "cell_type": "code",
   "outputs": [],
   "execution_count": null,
   "source": [
    "%%sql\n",
    "@import ada"
   ],
   "id": "6bba23a55d580ba9"
  },
  {
   "metadata": {},
   "cell_type": "markdown",
   "source": [
    "We can include the XGBOOSt\n",
    "Here We want to make the new adjustments \n",
    "so poeple can see it "
   ],
   "id": "bcf86d1d94d54944"
  },
  {
   "metadata": {},
   "cell_type": "code",
   "outputs": [],
   "execution_count": null,
   "source": "# create a probablity ",
   "id": "727c73ca3f6d966f"
  },
  {
   "metadata": {},
   "cell_type": "code",
   "outputs": [],
   "execution_count": null,
   "source": "We can make a new user \n",
   "id": "9eb441fc52a79a52"
  }
 ],
 "metadata": {
  "kernelspec": {
   "display_name": "Python 3",
   "language": "python",
   "name": "python3"
  },
  "language_info": {
   "codemirror_mode": {
    "name": "ipython",
    "version": 2
   },
   "file_extension": ".py",
   "mimetype": "text/x-python",
   "name": "python",
   "nbconvert_exporter": "python",
   "pygments_lexer": "ipython2",
   "version": "2.7.6"
  }
 },
 "nbformat": 4,
 "nbformat_minor": 5
}
